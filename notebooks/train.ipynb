{
 "cells": [
  {
   "cell_type": "code",
   "execution_count": 1,
   "metadata": {},
   "outputs": [],
   "source": [
    "from sklearn.feature_extraction.text import TfidfVectorizer\n",
    "from sklearn.linear_model import RidgeClassifier\n",
    "from sklearn.model_selection import cross_val_score, StratifiedKFold\n",
    "from sklearn.metrics import classification_report, accuracy_score\n",
    "import pandas as pd\n",
    "import dill\n",
    "import os"
   ]
  },
  {
   "cell_type": "code",
   "execution_count": 2,
   "metadata": {},
   "outputs": [],
   "source": [
    "file_path = \"./../input/test_predictions_2_models_gree_valid.tsv\"\n",
    "df_train = pd.read_csv(file_path, sep=\"\\t\", header=None)\n",
    "df_train.columns = [\n",
    "    \"id\", \"date\", \"cost\", \"text\", \"category_gemma_2b\", \"prob_gemma_2b\",\n",
    "    \"category_gemma_9b\", \"prob_gemma_9b\", \"category\",\n",
    "]"
   ]
  },
  {
   "cell_type": "code",
   "execution_count": 4,
   "metadata": {},
   "outputs": [],
   "source": [
    "vectorizer = TfidfVectorizer(max_features=5700)\n",
    "X = vectorizer.fit_transform(df_train[\"text\"])\n",
    "y = df_train[\"category\"]"
   ]
  },
  {
   "cell_type": "code",
   "execution_count": 5,
   "metadata": {},
   "outputs": [
    {
     "name": "stdout",
     "output_type": "stream",
     "text": [
      "Cross-Validation Accuracy Scores: [1.     1.     0.9996 0.9992 1.     1.     0.9988 1.     0.9996 0.9996]\n",
      "Mean Accuracy: 0.9997\n",
      "Standard Deviation: 0.0004\n"
     ]
    }
   ],
   "source": [
    "model = RidgeClassifier(alpha=0)\n",
    "cv = StratifiedKFold(n_splits=10, shuffle=True, random_state=42)\n",
    "cv_scores = cross_val_score(model, X, y, cv=cv, scoring=\"accuracy\", n_jobs=-1)\n",
    "print(f\"Cross-Validation Accuracy Scores: {cv_scores}\")\n",
    "print(f\"Mean Accuracy: {cv_scores.mean():.4f}\")\n",
    "print(f\"Standard Deviation: {cv_scores.std():.4f}\")"
   ]
  },
  {
   "cell_type": "code",
   "execution_count": 6,
   "metadata": {},
   "outputs": [],
   "source": [
    "file_path = \"./../input/payments_training.tsv\"\n",
    "df_test = pd.read_csv(file_path, sep=\"\\t\", header=None)\n",
    "df_test.columns = [\"index\", \"date\", \"amount\", \"text\", \"category\"]"
   ]
  },
  {
   "cell_type": "code",
   "execution_count": 7,
   "metadata": {},
   "outputs": [],
   "source": [
    "model.fit(X, y)\n",
    "X_test = vectorizer.transform(df_test[\"text\"])\n",
    "y_test = df_test[\"category\"]\n",
    "y_pred = model.predict(X_test)"
   ]
  },
  {
   "cell_type": "code",
   "execution_count": 8,
   "metadata": {},
   "outputs": [
    {
     "name": "stdout",
     "output_type": "stream",
     "text": [
      "Final Test Accuracy: 1.0000\n",
      "Classification Report:\n",
      "                precision    recall  f1-score   support\n",
      "\n",
      "  BANK_SERVICE       1.00      1.00      1.00        49\n",
      "    FOOD_GOODS       1.00      1.00      1.00        90\n",
      "       LEASING       1.00      1.00      1.00        38\n",
      "          LOAN       1.00      1.00      1.00        41\n",
      "NON_FOOD_GOODS       1.00      1.00      1.00        96\n",
      "NOT_CLASSIFIED       1.00      1.00      1.00        23\n",
      "   REALE_STATE       1.00      1.00      1.00        27\n",
      "       SERVICE       1.00      1.00      1.00        88\n",
      "           TAX       1.00      1.00      1.00        48\n",
      "\n",
      "      accuracy                           1.00       500\n",
      "     macro avg       1.00      1.00      1.00       500\n",
      "  weighted avg       1.00      1.00      1.00       500\n",
      "\n"
     ]
    }
   ],
   "source": [
    "accuracy = accuracy_score(y_test, y_pred)\n",
    "report = classification_report(y_test, y_pred)\n",
    "print(f\"Final Test Accuracy: {accuracy:.4f}\")\n",
    "print(\"Classification Report:\", report, sep='\\n')"
   ]
  },
  {
   "cell_type": "code",
   "execution_count": 9,
   "metadata": {},
   "outputs": [],
   "source": [
    "os.system(\"rm -rf ./../src/models; mkdir ./../src/models\")\n",
    "with open(\"./../src/models/tf-idf-vectorizer.dill\", \"wb\") as f:\n",
    "    dill.dump(vectorizer, f)\n",
    "with open(\"./../src/models/classifier.dill\", \"wb\") as f:\n",
    "    dill.dump(model, f)"
   ]
  },
  {
   "cell_type": "code",
   "execution_count": null,
   "metadata": {},
   "outputs": [],
   "source": []
  }
 ],
 "metadata": {
  "kernelspec": {
   "display_name": "biv",
   "language": "python",
   "name": "python3"
  },
  "language_info": {
   "codemirror_mode": {
    "name": "ipython",
    "version": 3
   },
   "file_extension": ".py",
   "mimetype": "text/x-python",
   "name": "python",
   "nbconvert_exporter": "python",
   "pygments_lexer": "ipython3",
   "version": "3.12.2"
  }
 },
 "nbformat": 4,
 "nbformat_minor": 2
}
